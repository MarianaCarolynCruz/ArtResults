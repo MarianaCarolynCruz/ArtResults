{
  "nbformat": 4,
  "nbformat_minor": 0,
  "metadata": {
    "colab": {
      "provenance": []
    },
    "kernelspec": {
      "name": "python3",
      "display_name": "Python 3"
    },
    "language_info": {
      "name": "python"
    }
  },
  "cells": [
    {
      "cell_type": "code",
      "source": [
        "#Carga y preprocesamiento de datos\n",
        "import pandas as pd\n",
        "from sklearn.metrics import confusion_matrix, classification_report, roc_auc_score, roc_curve, auc\n",
        "\n",
        "from sklearn.model_selection import train_test_split\n",
        "from sklearn.preprocessing import LabelEncoder\n",
        "\n",
        "# Cargar los datos\n",
        "file_path = 'CASOS_ZONAS.csv'\n",
        "data = pd.read_csv(file_path)\n",
        "\n",
        "# Convertir las fechas a un formato datetime\n",
        "data['fecha'] = pd.to_datetime(data['fecha'], format='%d/%m/%Y')\n",
        "\n",
        "# Codificar variables categóricas\n",
        "label_encoder = LabelEncoder()\n",
        "data['tipo_violencia'] = label_encoder.fit_transform(data['tipo_violencia'])\n",
        "\n",
        "# Seleccionar características y objetivo\n",
        "features = data.drop(columns=['fecha', 'gravedad'])\n",
        "target = data['gravedad']\n",
        "\n",
        "# Dividir los datos en conjuntos de entrenamiento y prueba\n",
        "X_train, X_test, y_train, y_test = train_test_split(features, target, test_size=0.2, random_state=42)\n",
        "\n",
        "# Mostrar la forma de los conjuntos de datos\n",
        "(X_train.shape, X_test.shape, y_train.shape, y_test.shape)\n"
      ],
      "metadata": {
        "colab": {
          "base_uri": "https://localhost:8080/"
        },
        "id": "Y5tH3YsT5F8T",
        "outputId": "316db42c-d5ef-4868-ee97-810349a83b7f"
      },
      "execution_count": 11,
      "outputs": [
        {
          "output_type": "execute_result",
          "data": {
            "text/plain": [
              "((146, 7), (37, 7), (146,), (37,))"
            ]
          },
          "metadata": {},
          "execution_count": 11
        }
      ]
    },
    {
      "cell_type": "code",
      "source": [
        "#Entrenamiento del modelo\n",
        "from sklearn.ensemble import RandomForestClassifier\n",
        "from sklearn.metrics import classification_report, roc_auc_score\n",
        "\n",
        "# Entrenar el modelo de Bosque Aleatorio\n",
        "rf = RandomForestClassifier(random_state=42)\n",
        "rf.fit(X_train, y_train)\n",
        "\n",
        "# Realizar predicciones\n",
        "y_pred_rf = rf.predict(X_test)\n",
        "y_prob_rf = rf.predict_proba(X_test)[:, 1]\n",
        "\n",
        "# Evaluar el modelo\n",
        "classification_rep_rf = classification_report(y_test, y_pred_rf)\n",
        "roc_auc_rf = roc_auc_score(y_test, y_prob_rf)\n",
        "\n",
        "classification_rep_rf, roc_auc_rf\n"
      ],
      "metadata": {
        "colab": {
          "base_uri": "https://localhost:8080/"
        },
        "id": "d9ihczjt5V-2",
        "outputId": "1a856adf-560d-4a1c-c699-63421b3b6952"
      },
      "execution_count": 12,
      "outputs": [
        {
          "output_type": "execute_result",
          "data": {
            "text/plain": [
              "('              precision    recall  f1-score   support\\n\\n           0       1.00      0.93      0.96        14\\n           1       0.96      1.00      0.98        23\\n\\n    accuracy                           0.97        37\\n   macro avg       0.98      0.96      0.97        37\\nweighted avg       0.97      0.97      0.97        37\\n',\n",
              " 0.9503105590062111)"
            ]
          },
          "metadata": {},
          "execution_count": 12
        }
      ]
    },
    {
      "cell_type": "code",
      "source": [
        "#Mejora del modelo Ajuste de hiperparámetros con Grid Search\n",
        "from sklearn.model_selection import GridSearchCV\n",
        "\n",
        "# Definir el espacio de búsqueda de hiperparámetros\n",
        "param_grid = {\n",
        "    'n_estimators': [50, 100, 200],\n",
        "    'max_depth': [None, 10, 20, 30],\n",
        "    'min_samples_split': [2, 5, 10],\n",
        "    'min_samples_leaf': [1, 2, 4],\n",
        "    'bootstrap': [True, False]\n",
        "}\n",
        "\n",
        "# Crear el modelo de Random Forest\n",
        "rf = RandomForestClassifier(random_state=42)\n",
        "\n",
        "# Configurar Grid Search con validación cruzada\n",
        "grid_search = GridSearchCV(estimator=rf, param_grid=param_grid, cv=5, n_jobs=-1, scoring='roc_auc', verbose=2)\n",
        "\n",
        "# Ejecutar Grid Search\n",
        "grid_search.fit(X_train, y_train)\n",
        "\n",
        "# Obtener el mejor modelo\n",
        "best_rf = grid_search.best_estimator_\n",
        "\n",
        "# Realizar predicciones con el mejor modelo\n",
        "y_pred_best_rf = best_rf.predict(X_test)\n",
        "y_prob_best_rf = best_rf.predict_proba(X_test)[:, 1]\n",
        "\n",
        "# Evaluar el mejor modelo\n",
        "classification_rep_best_rf = classification_report(y_test, y_pred_best_rf)\n",
        "roc_auc_best_rf = roc_auc_score(y_test, y_prob_best_rf)\n",
        "\n",
        "classification_rep_best_rf, roc_auc_best_rf\n"
      ],
      "metadata": {
        "colab": {
          "base_uri": "https://localhost:8080/"
        },
        "id": "sQxJAahl5Zjw",
        "outputId": "9c5b4bb4-cc4e-4ee4-a88a-d72f761fc3a7"
      },
      "execution_count": 13,
      "outputs": [
        {
          "output_type": "stream",
          "name": "stdout",
          "text": [
            "Fitting 5 folds for each of 216 candidates, totalling 1080 fits\n"
          ]
        },
        {
          "output_type": "execute_result",
          "data": {
            "text/plain": [
              "('              precision    recall  f1-score   support\\n\\n           0       1.00      0.93      0.96        14\\n           1       0.96      1.00      0.98        23\\n\\n    accuracy                           0.97        37\\n   macro avg       0.98      0.96      0.97        37\\nweighted avg       0.97      0.97      0.97        37\\n',\n",
              " 0.9503105590062112)"
            ]
          },
          "metadata": {},
          "execution_count": 13
        }
      ]
    },
    {
      "cell_type": "code",
      "source": [
        "#Ajuste de hiperparámetros con Random Search\n",
        "from sklearn.model_selection import RandomizedSearchCV\n",
        "import numpy as np\n",
        "\n",
        "# Definir el espacio de búsqueda de hiperparámetros\n",
        "param_dist = {\n",
        "    'n_estimators': [50, 100, 200],\n",
        "    'max_depth': [None, 10, 20, 30],\n",
        "    'min_samples_split': [2, 5, 10],\n",
        "    'min_samples_leaf': [1, 2, 4],\n",
        "    'bootstrap': [True, False]\n",
        "}\n",
        "\n",
        "# Crear el modelo de Random Forest\n",
        "rf = RandomForestClassifier(random_state=42)\n",
        "\n",
        "# Configurar Random Search con validación cruzada\n",
        "random_search = RandomizedSearchCV(estimator=rf, param_distributions=param_dist, n_iter=50, cv=3, n_jobs=-1, scoring='roc_auc', verbose=2, random_state=42)\n",
        "\n",
        "# Ejecutar Random Search\n",
        "random_search.fit(X_train, y_train)\n",
        "\n",
        "# Obtener el mejor modelo\n",
        "best_rf = random_search.best_estimator_\n",
        "\n",
        "# Realizar predicciones con el mejor modelo\n",
        "y_pred_best_rf = best_rf.predict(X_test)\n",
        "y_prob_best_rf = best_rf.predict_proba(X_test)[:, 1]\n",
        "\n",
        "# Evaluar el mejor modelo\n",
        "classification_rep_best_rf = classification_report(y_test, y_pred_best_rf)\n",
        "roc_auc_best_rf = roc_auc_score(y_test, y_prob_best_rf)\n",
        "\n",
        "classification_rep_best_rf, roc_auc_best_rf\n",
        "# Calcular la matriz de confusión\n",
        "conf_matrix = confusion_matrix(y_test, y_pred_best_rf)\n",
        "\n",
        "# Graficar la matriz de confusión\n",
        "plt.figure(figsize=(8, 6))\n",
        "sns.heatmap(conf_matrix, annot=True, fmt='d', cmap='Blues', xticklabels=['No Grave', 'Grave'], yticklabels=['No Grave', 'Grave'])\n",
        "plt.xlabel('Predicción')\n",
        "plt.ylabel('Actual')\n",
        "plt.title('Matriz de Confusión')\n",
        "plt.savefig('confusion_matrix.png')\n",
        "plt.close()\n",
        "\n",
        "# Calcular la curva ROC\n",
        "fpr, tpr, _ = roc_curve(y_test, y_prob_best_rf)\n",
        "roc_auc = auc(fpr, tpr)\n",
        "\n",
        "# Graficar la curva ROC\n",
        "plt.figure()\n",
        "plt.plot(fpr, tpr, color='darkorange', lw=2, label='Curva ROC (área = %0.2f)' % roc_auc)\n",
        "plt.plot([0, 1], [0, 1], color='navy', lw=2, linestyle='--')\n",
        "plt.xlim([0.0, 1.0])\n",
        "plt.ylim([0.0, 1.05])\n",
        "plt.xlabel('Tasa de Falsos Positivos')\n",
        "plt.ylabel('Tasa de Verdaderos Positivos')\n",
        "plt.title('Curva ROC')\n",
        "plt.legend(loc=\"lower right\")\n",
        "plt.savefig('roc_curve.png')\n",
        "plt.close()\n"
      ],
      "metadata": {
        "colab": {
          "base_uri": "https://localhost:8080/"
        },
        "id": "bSwhGHuf61m7",
        "outputId": "93f4b412-58d5-404d-ad9e-57de1b8df201"
      },
      "execution_count": 14,
      "outputs": [
        {
          "output_type": "stream",
          "name": "stdout",
          "text": [
            "Fitting 3 folds for each of 50 candidates, totalling 150 fits\n"
          ]
        }
      ]
    },
    {
      "cell_type": "markdown",
      "source": [
        "Gradient Boosting"
      ],
      "metadata": {
        "id": "AiEKdYbqInnq"
      }
    },
    {
      "cell_type": "code",
      "source": [
        "#Entrenamiento y evaluación del modelo de\n",
        "from sklearn.ensemble import GradientBoostingClassifier\n",
        "\n",
        "# Entrenar el modelo de Gradient Boosting\n",
        "gb = GradientBoostingClassifier(random_state=42)\n",
        "gb.fit(X_train, y_train)\n",
        "\n",
        "# Realizar predicciones\n",
        "y_pred_gb = gb.predict(X_test)\n",
        "y_prob_gb = gb.predict_proba(X_test)[:, 1]\n",
        "\n",
        "# Evaluar el modelo\n",
        "classification_rep_gb = classification_report(y_test, y_pred_gb)\n",
        "roc_auc_gb = roc_auc_score(y_test, y_prob_gb)\n",
        "\n",
        "classification_rep_gb, roc_auc_gb\n"
      ],
      "metadata": {
        "id": "QUFu0XR1ARsE",
        "colab": {
          "base_uri": "https://localhost:8080/"
        },
        "outputId": "e03ecca4-c6f2-40d8-b043-e301a3fdbfc0"
      },
      "execution_count": 7,
      "outputs": [
        {
          "output_type": "execute_result",
          "data": {
            "text/plain": [
              "('              precision    recall  f1-score   support\\n\\n           0       1.00      0.93      0.96        14\\n           1       0.96      1.00      0.98        23\\n\\n    accuracy                           0.97        37\\n   macro avg       0.98      0.96      0.97        37\\nweighted avg       0.97      0.97      0.97        37\\n',\n",
              " 0.953416149068323)"
            ]
          },
          "metadata": {},
          "execution_count": 7
        }
      ]
    },
    {
      "cell_type": "code",
      "source": [
        "# Extraer características temporales\n",
        "data['mes'] = data['fecha'].dt.month\n",
        "data['dia_semana'] = data['fecha'].dt.dayofweek\n",
        "\n",
        "# Volver a seleccionar características y objetivo\n",
        "features = data.drop(columns=['fecha', 'gravedad'])\n",
        "target = data['gravedad']\n",
        "\n",
        "# Dividir los datos en conjuntos de entrenamiento y prueba\n",
        "X_train, X_test, y_train, y_test = train_test_split(features, target, test_size=0.2, random_state=42)\n",
        "\n",
        "# Entrenar el modelo de Gradient Boosting con las nuevas características\n",
        "gb = GradientBoostingClassifier(random_state=42)\n",
        "gb.fit(X_train, y_train)\n",
        "\n",
        "# Realizar predicciones\n",
        "y_pred_gb = gb.predict(X_test)\n",
        "y_prob_gb = gb.predict_proba(X_test)[:, 1]\n",
        "\n",
        "# Evaluar el modelo\n",
        "classification_rep_gb = classification_report(y_test, y_pred_gb)\n",
        "roc_auc_gb = roc_auc_score(y_test, y_prob_gb)\n",
        "\n",
        "classification_rep_gb, roc_auc_gb\n"
      ],
      "metadata": {
        "id": "9jzMEfhRBVFn",
        "colab": {
          "base_uri": "https://localhost:8080/"
        },
        "outputId": "4421d719-53c3-437a-e353-aa6ffe31bc42"
      },
      "execution_count": 8,
      "outputs": [
        {
          "output_type": "execute_result",
          "data": {
            "text/plain": [
              "('              precision    recall  f1-score   support\\n\\n           0       0.81      0.93      0.87        14\\n           1       0.95      0.87      0.91        23\\n\\n    accuracy                           0.89        37\\n   macro avg       0.88      0.90      0.89        37\\nweighted avg       0.90      0.89      0.89        37\\n',\n",
              " 0.9891304347826088)"
            ]
          },
          "metadata": {},
          "execution_count": 8
        }
      ]
    },
    {
      "cell_type": "code",
      "source": [
        "import matplotlib.pyplot as plt\n",
        "from sklearn.metrics import roc_curve, auc\n",
        "\n",
        "# Calcular la curva ROC\n",
        "fpr, tpr, _ = roc_curve(y_test, y_prob_gb)\n",
        "roc_auc = auc(fpr, tpr)\n",
        "\n",
        "# Graficar la curva ROC\n",
        "plt.figure()\n",
        "plt.plot(fpr, tpr, color='darkorange', lw=2, label='ROC curve (area = %0.2f)' % roc_auc)\n",
        "plt.plot([0, 1], [0, 1], color='navy', lw=2, linestyle='--')\n",
        "plt.xlim([0.0, 1.0])\n",
        "plt.ylim([0.0, 1.05])\n",
        "plt.xlabel('False Positive Rate')\n",
        "plt.ylabel('True Positive Rate')\n",
        "plt.title('Receiver Operating Characteristic (ROC) Curve')\n",
        "plt.legend(loc=\"lower right\")\n",
        "plt.savefig('roc_curve.png')\n",
        "plt.show()\n"
      ],
      "metadata": {
        "id": "MY8jbMeJlSEG",
        "colab": {
          "base_uri": "https://localhost:8080/",
          "height": 472
        },
        "outputId": "5c8579e5-be01-4d20-8ab4-d8c149ea9123"
      },
      "execution_count": 9,
      "outputs": [
        {
          "output_type": "display_data",
          "data": {
            "text/plain": [
              "<Figure size 640x480 with 1 Axes>"
            ],
            "image/png": "[encoded data removed]"
          },
          "metadata": {}
        }
      ]
    },
    {
      "cell_type": "code",
      "source": [
        "from sklearn.metrics import confusion_matrix\n",
        "import seaborn as sns\n",
        "import matplotlib.pyplot as plt\n",
        "\n",
        "# Calcular la matriz de confusión\n",
        "conf_matrix = confusion_matrix(y_test, y_pred_gb)\n",
        "\n",
        "# Visualizar la matriz de confusión\n",
        "plt.figure(figsize=(8, 6))\n",
        "sns.heatmap(conf_matrix, annot=True, fmt='d', cmap='Blues', xticklabels=['No Grave', 'Grave'], yticklabels=['No Grave', 'Grave'])\n",
        "plt.xlabel('Predicted')\n",
        "plt.ylabel('Actual')\n",
        "plt.title('Confusion Matrix')\n",
        "plt.savefig('confusion_matrix.png')\n",
        "plt.show()\n",
        "print(conf_matrix)\n"
      ],
      "metadata": {
        "id": "7Y-Ns3yepTyL",
        "colab": {
          "base_uri": "https://localhost:8080/",
          "height": 599
        },
        "outputId": "4a23921d-e9a6-43b8-ce3e-03074bcd93a9"
      },
      "execution_count": 10,
      "outputs": [
        {
          "output_type": "display_data",
          "data": {
            "text/plain": [
              "<Figure size 800x600 with 2 Axes>"
            ],
            "image/png": "[encoded data removed]"
          },
          "metadata": {}
        },
        {
          "output_type": "stream",
          "name": "stdout",
          "text": [
            "[[13  1]\n",
            " [ 3 20]]\n"
          ]
        }
      ]
    }
  ]
}